{
  "nbformat": 4,
  "nbformat_minor": 0,
  "metadata": {
    "colab": {
      "provenance": [],
      "authorship_tag": "ABX9TyNg4410SD3L94GN/DwhacIT",
      "include_colab_link": true
    },
    "kernelspec": {
      "name": "python3",
      "display_name": "Python 3"
    },
    "language_info": {
      "name": "python"
    }
  },
  "cells": [
    {
      "cell_type": "markdown",
      "metadata": {
        "id": "view-in-github",
        "colab_type": "text"
      },
      "source": [
        "<a href=\"https://colab.research.google.com/github/janettgarciiaa/Project_1/blob/main/Untitled0.ipynb\" target=\"_parent\"><img src=\"https://colab.research.google.com/assets/colab-badge.svg\" alt=\"Open In Colab\"/></a>"
      ]
    },
    {
      "cell_type": "code",
      "execution_count": 1,
      "metadata": {
        "colab": {
          "base_uri": "https://localhost:8080/"
        },
        "id": "Yj4T3_1BlyIg",
        "outputId": "e68f0b26-385c-4808-da0b-f16c70d1cf45"
      },
      "outputs": [
        {
          "output_type": "stream",
          "name": "stdout",
          "text": [
            "         steps  sleep_hours    water_oz  caffeine_mg  stress  energy_score\n",
            "0  6746.141659     6.816957   72.930850   165.983219     3.0     38.690710\n",
            "1  9225.637958     6.675734   73.190100   192.784094     3.0     42.268600\n",
            "2  4613.446648     8.463565   74.883471   139.281233     3.0     60.252624\n",
            "3  7737.606186     7.554302  111.019719   116.355159     5.0     60.962987\n",
            "4  6750.446796     9.255120   61.530380   122.283013     5.0     59.249188\n",
            "WellnessRegressor(\n",
            "  (linear): Linear(in_features=5, out_features=1, bias=True)\n",
            ")\n"
          ]
        }
      ],
      "source": [
        "import numpy as np\n",
        "import pandas as pd\n",
        "import torch\n",
        "import torch.nn as nn\n",
        "\n",
        "# --- Step 1: Synthetic data function ---\n",
        "def make_synthetic_energy_data(n=1000):\n",
        "    \"\"\"\n",
        "    Generate a synthetic dataset for predicting daily energy score.\n",
        "    Features: steps, sleep_hours, water_oz, caffeine_mg, stress\n",
        "    Target: energy_score (0–100)\n",
        "    \"\"\"\n",
        "    # Features\n",
        "    steps = np.random.normal(7000, 2000, size=n)\n",
        "    sleep = np.random.normal(7, 1, size=n)\n",
        "    water = np.random.normal(70, 20, size=n)\n",
        "    caffeine = np.random.normal(120, 50, size=n)\n",
        "    stress = np.random.randint(1, 6, size=n)\n",
        "\n",
        "    X = np.column_stack([steps, sleep, water, caffeine, stress])\n",
        "\n",
        "    # True parameters (β0 + βX + noise)\n",
        "    beta0 = 15.0\n",
        "    betas = np.array([0.002, 5.0, 0.05, -0.03, -4.0])\n",
        "    noise = np.random.normal(0, 5, size=n)\n",
        "\n",
        "    y = beta0 + X @ betas + noise\n",
        "    y = np.clip(y, 0, 100)  # keep target in [0,100]\n",
        "\n",
        "    df = pd.DataFrame(X, columns=[\"steps\",\"sleep_hours\",\"water_oz\",\"caffeine_mg\",\"stress\"])\n",
        "    df[\"energy_score\"] = y\n",
        "    return df\n",
        "\n",
        "# quick test\n",
        "print(make_synthetic_energy_data(5).head())\n",
        "\n",
        "# --- Step 2: Regression model class ---\n",
        "class WellnessRegressor(nn.Module):\n",
        "    \"\"\"\n",
        "    Linear regression model using PyTorch.\n",
        "    Input: number of lifestyle features\n",
        "    Output: predicted energy score\n",
        "    \"\"\"\n",
        "    def __init__(self, in_features):\n",
        "        super().__init__()\n",
        "        self.linear = nn.Linear(in_features, 1)\n",
        "\n",
        "    def forward(self, x):\n",
        "        return self.linear(x)\n",
        "\n",
        "# quick test\n",
        "model = WellnessRegressor(in_features=5)\n",
        "print(model)"
      ]
    }
  ]
}